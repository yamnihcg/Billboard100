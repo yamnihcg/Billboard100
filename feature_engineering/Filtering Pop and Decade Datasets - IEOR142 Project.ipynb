{
 "cells": [
  {
   "cell_type": "code",
   "execution_count": 54,
   "metadata": {},
   "outputs": [],
   "source": [
    "import pandas as pd\n",
    "import numpy as np\n",
    "import matplotlib.pyplot as plt"
   ]
  },
  {
   "cell_type": "code",
   "execution_count": 117,
   "metadata": {},
   "outputs": [],
   "source": [
    "\n",
    "#Filtering Datasets by Decade and Genres\n",
    "\n",
    "final_data_2 = pd.read_csv('/Users/yamnihcg/Downloads/FINAL_DATA_2.csv')\n",
    "cols_list = []\n",
    "for i in range(len(final_data_2.columns)):\n",
    "    cols_list.append(final_data_2.columns[i])\n",
    "\n",
    "# Filter Data Set By Decades \n",
    "\n",
    "d1_data_points = []\n",
    "d2_data_points = []\n",
    "d3_data_points = []\n",
    "#d1_data_points.append(final_data_2)\n",
    "for index, row in final_data_2.iterrows():\n",
    "    if row.Year >= 1990 and row.Year < 2000:\n",
    "        d1_data_points.append(row)\n",
    "    if row.Year >= 2000 and row.Year < 2010:\n",
    "        d2_data_points.append(row)\n",
    "    if row.Year >= 2010 and row.Year < 2020:\n",
    "        d3_data_points.append(row)\n",
    "        \n",
    "decade1990 = pd.DataFrame(data = d1_data_points, columns = cols_list)\n",
    "decade2000 = pd.DataFrame(data = d2_data_points, columns = cols_list)\n",
    "decade2010 = pd.DataFrame(data = d3_data_points, columns = cols_list)\n",
    "\n",
    "#Filter Dataset by Genre\n",
    "\n",
    "pop_songs = []\n",
    "for index, row in final_data_2.iterrows():\n",
    "    if row.Genre == \"pop\":\n",
    "        pop_songs.append(row)\n",
    "\n",
    "pop_songs_data = pd.DataFrame(data = pop_songs, columns = cols_list)\n",
    "pop_songs_data.to_csv('AllPopSongsFinal.csv')\n",
    "\n",
    "#Filter Dataset by Genre/Decade\n",
    "\n",
    "pop_2010_songs = []\n",
    "for index, row in final_data_2.iterrows():\n",
    "    if row.Genre == \"pop\" and row.Year >= 2010 and row.Year < 2020:\n",
    "        pop_2010_songs.append(row)\n",
    "pop_2010_songs_data = pd.DataFrame(data = pop_2010_songs, columns = cols_list)\n",
    "pop_2010_songs_data.to_csv('PopSongsin2010.csv')\n"
   ]
  },
  {
   "cell_type": "code",
   "execution_count": 122,
   "metadata": {},
   "outputs": [
    {
     "name": "stdout",
     "output_type": "stream",
     "text": [
      "{'metal': 19, 'pop': 600, 'rock': 317, 'jazz': 33, 'classical': 1, 'rap': 188, 'country': 119, 'edm': 2}\n",
      "{'metal': 85, 'rock': 290, 'pop': 808, 'jazz': 37, 'rap': 290, 'country': 111, 'edm': 9, 'classical': 2}\n",
      "{'rap': 1178, 'pop': 2875, 'jazz': 38, 'rock': 503, 'country': 213, 'classical': 30, 'metal': 161, 'edm': 109}\n"
     ]
    }
   ],
   "source": [
    "#Getting Most Popular Genre in Each Decade \n",
    "frequency_map_1990 = {}\n",
    "frequency_map_2000 = {}\n",
    "frequency_map_2010 = {}\n",
    "\n",
    "for index, row in decade1990.iterrows():\n",
    "    if row.Genre in frequency_map_1990:\n",
    "        cur_key = frequency_map_1990[row.Genre]\n",
    "        cur_key = cur_key + 1\n",
    "        frequency_map_1990[row.Genre] = cur_key\n",
    "    else:\n",
    "        frequency_map_1990[row.Genre] = 1\n",
    "print(frequency_map_1990)\n",
    "\n",
    "for index, row in decade2000.iterrows():\n",
    "    if row.Genre in frequency_map_2000:\n",
    "        cur_key = frequency_map_2000[row.Genre]\n",
    "        cur_key = cur_key + 1\n",
    "        frequency_map_2000[row.Genre] = cur_key\n",
    "    else:\n",
    "        frequency_map_2000[row.Genre] = 1\n",
    "print(frequency_map_2000)\n",
    "\n",
    "for index, row in decade2010.iterrows():\n",
    "    if row.Genre in frequency_map_2010:\n",
    "        cur_key = frequency_map_2010[row.Genre]\n",
    "        cur_key = cur_key + 1\n",
    "        frequency_map_2010[row.Genre] = cur_key\n",
    "    else:\n",
    "        frequency_map_2010[row.Genre] = 1\n",
    "print(frequency_map_2010)\n",
    "\n",
    "    "
   ]
  },
  {
   "cell_type": "code",
   "execution_count": null,
   "metadata": {},
   "outputs": [],
   "source": []
  },
  {
   "cell_type": "code",
   "execution_count": null,
   "metadata": {},
   "outputs": [],
   "source": []
  }
 ],
 "metadata": {
  "kernelspec": {
   "display_name": "Python 3",
   "language": "python",
   "name": "python3"
  },
  "language_info": {
   "codemirror_mode": {
    "name": "ipython",
    "version": 3
   },
   "file_extension": ".py",
   "mimetype": "text/x-python",
   "name": "python",
   "nbconvert_exporter": "python",
   "pygments_lexer": "ipython3",
   "version": "3.7.3"
  }
 },
 "nbformat": 4,
 "nbformat_minor": 2
}
