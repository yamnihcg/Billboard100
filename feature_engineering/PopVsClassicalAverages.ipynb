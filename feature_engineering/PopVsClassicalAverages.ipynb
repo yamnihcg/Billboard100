{
 "cells": [
  {
   "cell_type": "code",
   "execution_count": 17,
   "metadata": {},
   "outputs": [],
   "source": [
    "import pandas as pd\n",
    "import numpy as np"
   ]
  },
  {
   "cell_type": "code",
   "execution_count": 18,
   "metadata": {},
   "outputs": [],
   "source": [
    "final_data_2 = pd.read_csv('/Users/yamnihcg/Downloads/FINAL_DATA_2.csv')"
   ]
  },
  {
   "cell_type": "code",
   "execution_count": 21,
   "metadata": {},
   "outputs": [
    {
     "name": "stdout",
     "output_type": "stream",
     "text": [
      "109.85603030303031\n",
      "119.85948073780071\n",
      "0.13204848484848486\n",
      "0.17104816717254268\n",
      "-18.922757575757572\n",
      "-6.881183749708146\n",
      "0.8083272727272728\n",
      "0.25851721494980273\n",
      "0.283139393939394\n",
      "0.5310817417697866\n"
     ]
    }
   ],
   "source": [
    "#Average Tempo, Acousticness, Valence, Loudness, Liveness of Pop vs. Classical Music\n",
    "acousticness_sum_classical = 0\n",
    "acousticness_sum_pop = 0\n",
    "valence_sum_classical = 0 \n",
    "valence_sum_pop = 0 \n",
    "loudness_sum_classical = 0\n",
    "loudness_sum_pop = 0\n",
    "liveness_sum_classical = 0\n",
    "liveness_sum_pop = 0\n",
    "tempo_sum_classical = 0 \n",
    "count_classical = 0 \n",
    "tempo_sum_pop = 0\n",
    "count_pop = 0\n",
    "for index, row in final_data_2.iterrows():\n",
    "    if row.Genre == \"classical\":\n",
    "        tempo_sum_classical = tempo_sum_classical + row[\"Tempo\"]\n",
    "        liveness_sum_classical = liveness_sum_classical + row[\"Liveness\"]\n",
    "        loudness_sum_classical = loudness_sum_classical + row[\"Loudness\"]\n",
    "        acousticness_sum_classical = acousticness_sum_classical + row[\"Acousticness\"]\n",
    "        valence_sum_classical = valence_sum_classical + row[\"Valence\"]\n",
    "        count_classical = count_classical + 1\n",
    "    if row.Genre == \"pop\":\n",
    "        tempo_sum_pop = tempo_sum_pop + row[\"Tempo\"]\n",
    "        liveness_sum_pop = liveness_sum_pop + row[\"Liveness\"]\n",
    "        loudness_sum_pop = loudness_sum_pop + row[\"Loudness\"]\n",
    "        acousticness_sum_pop = acousticness_sum_pop + row[\"Acousticness\"]\n",
    "        valence_sum_pop = valence_sum_pop + row[\"Valence\"]\n",
    "        count_pop = count_pop + 1\n",
    "\n",
    "print(tempo_sum_classical / count_classical)\n",
    "print(tempo_sum_pop / count_pop)\n",
    "\n",
    "print(liveness_sum_classical / count_classical)\n",
    "print(liveness_sum_pop / count_pop)\n",
    "\n",
    "print(loudness_sum_classical / count_classical)\n",
    "print(loudness_sum_pop / count_pop)\n",
    "\n",
    "print(acousticness_sum_classical / count_classical)\n",
    "print(acousticness_sum_pop / count_pop)\n",
    "\n",
    "print(valence_sum_classical / count_classical)\n",
    "print(valence_sum_pop / count_pop)\n"
   ]
  },
  {
   "cell_type": "code",
   "execution_count": null,
   "metadata": {},
   "outputs": [],
   "source": []
  }
 ],
 "metadata": {
  "kernelspec": {
   "display_name": "Python 3",
   "language": "python",
   "name": "python3"
  },
  "language_info": {
   "codemirror_mode": {
    "name": "ipython",
    "version": 3
   },
   "file_extension": ".py",
   "mimetype": "text/x-python",
   "name": "python",
   "nbconvert_exporter": "python",
   "pygments_lexer": "ipython3",
   "version": "3.7.3"
  }
 },
 "nbformat": 4,
 "nbformat_minor": 2
}
